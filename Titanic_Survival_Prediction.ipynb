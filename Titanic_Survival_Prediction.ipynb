{
 "cells": [
  {
   "cell_type": "markdown",
   "id": "97952bf1",
   "metadata": {},
   "source": [
    "# 🧪 Titanic Survival Prediction\n",
    "\n",
    "**Author**: Shariq Shaikh  \n",
    "**Domain**: Data Science  \n",
    "**Objective**: Build a machine learning model to predict whether a passenger on the Titanic survived or not."
   ]
  },
  {
   "cell_type": "markdown",
   "id": "730b315d",
   "metadata": {},
   "source": [
    "## 🧾 1. Import Libraries"
   ]
  },
  {
   "cell_type": "code",
   "execution_count": null,
   "id": "124f338c",
   "metadata": {},
   "outputs": [],
   "source": [
    "import pandas as pd\n",
    "import numpy as np\n",
    "import seaborn as sns\n",
    "import matplotlib.pyplot as plt\n",
    "from sklearn.model_selection import train_test_split\n",
    "from sklearn.preprocessing import LabelEncoder\n",
    "from sklearn.linear_model import LogisticRegression\n",
    "from sklearn.metrics import accuracy_score, confusion_matrix, classification_report\n",
    "import warnings\n",
    "warnings.filterwarnings('ignore')"
   ]
  },
  {
   "cell_type": "markdown",
   "id": "3fb77d3c",
   "metadata": {},
   "source": [
    "## 📂 2. Load Dataset"
   ]
  },
  {
   "cell_type": "code",
   "execution_count": null,
   "id": "8ddd35bf",
   "metadata": {},
   "outputs": [],
   "source": [
    "data = pd.read_csv('Titanic-Dataset.csv')\n",
    "data.head()"
   ]
  },
  {
   "cell_type": "markdown",
   "id": "ae0eef0c",
   "metadata": {},
   "source": [
    "## 📊 3. Data Exploration"
   ]
  },
  {
   "cell_type": "code",
   "execution_count": null,
   "id": "82829b06",
   "metadata": {},
   "outputs": [],
   "source": [
    "print(\"Dataset Shape:\", data.shape)\n",
    "print(\"\\nMissing Values:\\n\", data.isnull().sum())\n",
    "print(\"\\nData Description:\\n\", data.describe())"
   ]
  },
  {
   "cell_type": "markdown",
   "id": "c5cb8f2e",
   "metadata": {},
   "source": [
    "### 🔍 Visualizations"
   ]
  },
  {
   "cell_type": "code",
   "execution_count": null,
   "id": "86bfcd1a",
   "metadata": {},
   "outputs": [],
   "source": [
    "plt.figure(figsize=(6,4))\n",
    "sns.countplot(x='Survived', data=data)\n",
    "plt.title(\"Survival Count\")\n",
    "plt.show()\n",
    "\n",
    "plt.figure(figsize=(6,4))\n",
    "sns.countplot(x='Pclass', data=data)\n",
    "plt.title(\"Passenger Class Distribution\")\n",
    "plt.show()\n",
    "\n",
    "plt.figure(figsize=(6,4))\n",
    "sns.countplot(x='Sex', data=data)\n",
    "plt.title(\"Gender Distribution\")\n",
    "plt.show()\n",
    "\n",
    "plt.figure(figsize=(8,6))\n",
    "sns.countplot(x='Survived', hue='Sex', data=data)\n",
    "plt.title(\"Survival by Gender\")\n",
    "plt.show()\n",
    "\n",
    "plt.figure(figsize=(8,6))\n",
    "sns.countplot(x='Survived', hue='Pclass', data=data)\n",
    "plt.title(\"Survival by Passenger Class\")\n",
    "plt.show()"
   ]
  },
  {
   "cell_type": "markdown",
   "id": "905703e8",
   "metadata": {},
   "source": [
    "## 🛠️ 4. Data Preprocessing"
   ]
  },
  {
   "cell_type": "code",
   "execution_count": null,
   "id": "9dce3b5f",
   "metadata": {},
   "outputs": [],
   "source": [
    "# Fill missing values\n",
    "data['Age'].fillna(data['Age'].median(), inplace=True)\n",
    "data['Fare'].fillna(data['Fare'].median(), inplace=True)\n",
    "data['Embarked'].fillna(data['Embarked'].mode()[0], inplace=True)\n",
    "\n",
    "# Encode categorical variables\n",
    "le = LabelEncoder()\n",
    "data['Sex'] = le.fit_transform(data['Sex'])        # Male:1, Female:0\n",
    "data['Embarked'] = le.fit_transform(data['Embarked'])\n",
    "\n",
    "# Drop irrelevant columns\n",
    "data = data.drop(['Name', 'Ticket', 'Cabin', 'PassengerId'], axis=1)\n",
    "\n",
    "data.head()"
   ]
  },
  {
   "cell_type": "markdown",
   "id": "d2717a51",
   "metadata": {},
   "source": [
    "## 🤖 5. Train the Model"
   ]
  },
  {
   "cell_type": "code",
   "execution_count": null,
   "id": "a19f4091",
   "metadata": {},
   "outputs": [],
   "source": [
    "X = data[['Pclass', 'Sex']]  # You can add more features here\n",
    "y = data['Survived']\n",
    "\n",
    "X_train, X_test, y_train, y_test = train_test_split(X, y, test_size=0.2, random_state=42)\n",
    "\n",
    "model = LogisticRegression()\n",
    "model.fit(X_train, y_train)"
   ]
  },
  {
   "cell_type": "markdown",
   "id": "d22a3471",
   "metadata": {},
   "source": [
    "## 📈 6. Model Evaluation"
   ]
  },
  {
   "cell_type": "code",
   "execution_count": null,
   "id": "812c650b",
   "metadata": {},
   "outputs": [],
   "source": [
    "y_pred = model.predict(X_test)\n",
    "\n",
    "print(\"Accuracy:\", accuracy_score(y_test, y_pred))\n",
    "print(\"\\nConfusion Matrix:\\n\", confusion_matrix(y_test, y_pred))\n",
    "print(\"\\nClassification Report:\\n\", classification_report(y_test, y_pred))"
   ]
  },
  {
   "cell_type": "markdown",
   "id": "8232235d",
   "metadata": {},
   "source": [
    "## 🔮 7. Make a Prediction"
   ]
  },
  {
   "cell_type": "code",
   "execution_count": null,
   "id": "8a2a11dd",
   "metadata": {},
   "outputs": [],
   "source": [
    "# Predict for a sample passenger: Pclass=2, Sex=1 (male)\n",
    "sample = pd.DataFrame({'Pclass': [2], 'Sex': [1]})\n",
    "result = model.predict(sample)\n",
    "\n",
    "if result[0] == 1:\n",
    "    print(\"🎉 Passenger Survived\")\n",
    "else:\n",
    "    print(\"😞 Passenger Did Not Survive\")"
   ]
  },
  {
   "cell_type": "markdown",
   "id": "915c3985",
   "metadata": {},
   "source": [
    "## 📌 8. Bonus: Prediction Function"
   ]
  },
  {
   "cell_type": "code",
   "execution_count": null,
   "id": "3ea91131",
   "metadata": {},
   "outputs": [],
   "source": [
    "def predict_survival(pclass, sex):\n",
    "    sample = pd.DataFrame({'Pclass': [pclass], 'Sex': [sex]})\n",
    "    prediction = model.predict(sample)[0]\n",
    "    return \"🎉 Survived\" if prediction == 1 else \"😞 Not Survived\"\n",
    "\n",
    "print(predict_survival(3, 0))  # Pclass=3, Female\n",
    "print(predict_survival(1, 1))  # Pclass=1, Male"
   ]
  }
 ],
 "metadata": {},
 "nbformat": 4,
 "nbformat_minor": 5
}